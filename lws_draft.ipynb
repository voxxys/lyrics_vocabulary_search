{
 "cells": [
  {
   "cell_type": "code",
   "execution_count": 1,
   "id": "4c81fef2",
   "metadata": {},
   "outputs": [],
   "source": [
    "import requests\n",
    "from bs4 import BeautifulSoup\n",
    "from bs4.element import Comment\n",
    "import re\n",
    "from collections import Counter\n",
    "from pathlib import Path\n",
    "import json\n",
    "import os\n",
    "from tqdm.notebook import tqdm"
   ]
  },
  {
   "cell_type": "code",
   "execution_count": 2,
   "id": "e0cf5a61",
   "metadata": {},
   "outputs": [
    {
     "name": "stdout",
     "output_type": "stream",
     "text": [
      "麩 菓子 は 、 麩 を 主材 料 と し た 日本 の 菓子 。\n"
     ]
    }
   ],
   "source": [
    "import fugashi\n",
    "\n",
    "# This is our sample text.\n",
    "# \"Fugashi\" is a Japanese snack primarily made of gluten.\n",
    "text = \"麩菓子は、麩を主材料とした日本の菓子。\"\n",
    "\n",
    "# The Tagger object holds state about the dictionary. \n",
    "tagger = fugashi.Tagger()\n",
    "\n",
    "words = [word.surface for word in tagger(text)]\n",
    "print(*words)"
   ]
  },
  {
   "cell_type": "code",
   "execution_count": 3,
   "id": "24b61438",
   "metadata": {},
   "outputs": [],
   "source": [
    "def tag_visible(element):\n",
    "    if element.parent.name in ['style', 'script', 'head', 'title', 'meta', '[document]']:\n",
    "        return False\n",
    "    if isinstance(element, Comment):\n",
    "        return False\n",
    "    return True\n",
    "\n",
    "def create_title_dir(results_path,title_page_href):\n",
    "    title_dir_name = title_page_href.split('/')[-1]\n",
    "    title_dir_path = results_path + '/' + title_dir_name\n",
    "\n",
    "    Path(title_dir_path).mkdir(parents=True, exist_ok=True)\n",
    "    \n",
    "    return title_dir_path\n",
    "\n",
    "def lyrics_links(title_page_soup):\n",
    "    \n",
    "    llinks = []\n",
    "    \n",
    "    div_songs = title_page_soup.find('div',{'id':'songlist'})\n",
    "\n",
    "    song_page_links = div_songs.find_all('a')\n",
    "    len(song_page_links)\n",
    "\n",
    "    for l in song_page_links:\n",
    "        song_page_href = l.get('href')\n",
    "        if song_page_href.startswith('http'):\n",
    "            llinks.append(song_page_href)\n",
    "            \n",
    "    return llinks\n",
    "\n",
    "def scrape_lyrics(song_page_soup):\n",
    "    texts = song_page_soup.findAll(text=True)\n",
    "\n",
    "    div_en_text = song_page_soup.find('div',{'id':'sideKanji'})\n",
    "\n",
    "    if div_en_text is not None:\n",
    "        texts = div_en_text.find_all(text=True)\n",
    "\n",
    "        visible_texts = filter(tag_visible, texts)  \n",
    "        vis_text = u\" \".join(t.strip() for t in visible_texts)\n",
    "        vis_text = re.sub(r\"\\[(.*?)\\]\",'',vis_text)\n",
    "\n",
    "    else:\n",
    "        vis_text = None\n",
    "        \n",
    "    return vis_text\n",
    "\n",
    "def normalize_freq(cnt):\n",
    "\n",
    "    total = sum(cnt.values(), 0.0)\n",
    "    for key in cnt:\n",
    "        cnt[key] /= total\n",
    "        \n",
    "    return cnt\n",
    "\n",
    "def sort_dict_by_value(dictionary, reversed_order):\n",
    "    list_d = list(dictionary.items())   \n",
    "    list_swap = []                      \n",
    "    for key, value in list_d:            \n",
    "        list_swap.append((value, key))  \n",
    "    list_sorted = sorted(list_swap, reverse=reversed_order) \n",
    "    return list_sorted   "
   ]
  },
  {
   "cell_type": "code",
   "execution_count": 4,
   "id": "2a03fdb5",
   "metadata": {},
   "outputs": [],
   "source": [
    "results_path = 'D:/CODE/PET/lyrics_vocabulary_search/data/dicts_jpn'\n",
    "\n",
    "Path(results_path).mkdir(parents=True, exist_ok=True)"
   ]
  },
  {
   "cell_type": "code",
   "execution_count": 5,
   "id": "77d91556",
   "metadata": {},
   "outputs": [],
   "source": [
    "url = 'https://www.animesonglyrics.com/topanime'\n",
    "page = requests.get(url)\n",
    "\n",
    "soup = BeautifulSoup(page.text)\n",
    "\n",
    "div_all_100 = soup.find('div',{'class':'panel-body'})\n",
    "\n",
    "title_page_links = div_all_100.find_all('a')"
   ]
  },
  {
   "cell_type": "code",
   "execution_count": 6,
   "id": "abd829ba",
   "metadata": {},
   "outputs": [
    {
     "data": {
      "text/plain": [
       "201"
      ]
     },
     "execution_count": 6,
     "metadata": {},
     "output_type": "execute_result"
    }
   ],
   "source": [
    "len(title_page_links)"
   ]
  },
  {
   "cell_type": "code",
   "execution_count": null,
   "id": "4db31f0c",
   "metadata": {},
   "outputs": [],
   "source": []
  },
  {
   "cell_type": "code",
   "execution_count": 7,
   "id": "fce557f1",
   "metadata": {},
   "outputs": [
    {
     "ename": "OperationalError",
     "evalue": "table freqs already exists",
     "output_type": "error",
     "traceback": [
      "\u001b[1;31m---------------------------------------------------------------------------\u001b[0m",
      "\u001b[1;31mOperationalError\u001b[0m                          Traceback (most recent call last)",
      "Cell \u001b[1;32mIn[7], line 6\u001b[0m\n\u001b[0;32m      3\u001b[0m conn \u001b[38;5;241m=\u001b[39m sqlite3\u001b[38;5;241m.\u001b[39mconnect(\u001b[38;5;124m\"\u001b[39m\u001b[38;5;124mD:/CODE/PET/lyrics_vocabulary_search/data/data.db\u001b[39m\u001b[38;5;124m\"\u001b[39m)\n\u001b[0;32m      4\u001b[0m cursor \u001b[38;5;241m=\u001b[39m conn\u001b[38;5;241m.\u001b[39mcursor()\n\u001b[1;32m----> 6\u001b[0m \u001b[43mcursor\u001b[49m\u001b[38;5;241;43m.\u001b[39;49m\u001b[43mexecute\u001b[49m\u001b[43m(\u001b[49m\u001b[38;5;124;43m\"\"\"\u001b[39;49m\u001b[38;5;124;43mCREATE TABLE freqs\u001b[39;49m\n\u001b[0;32m      7\u001b[0m \u001b[38;5;124;43m                  (word text, song text, title text,\u001b[39;49m\n\u001b[0;32m      8\u001b[0m \u001b[38;5;124;43m                   rel_freq real)\u001b[39;49m\n\u001b[0;32m      9\u001b[0m \u001b[38;5;124;43m               \u001b[39;49m\u001b[38;5;124;43m\"\"\"\u001b[39;49m\u001b[43m)\u001b[49m\n",
      "\u001b[1;31mOperationalError\u001b[0m: table freqs already exists"
     ]
    }
   ],
   "source": [
    "import sqlite3\n",
    " \n",
    "conn = sqlite3.connect(\"D:/CODE/PET/lyrics_vocabulary_search/data/data.db\")\n",
    "cursor = conn.cursor()\n",
    " \n",
    "cursor.execute(\"\"\"CREATE TABLE freqs\n",
    "                  (word text, song text, title text,\n",
    "                   rel_freq real)\n",
    "               \"\"\")"
   ]
  },
  {
   "cell_type": "code",
   "execution_count": 8,
   "id": "9ddd2564",
   "metadata": {},
   "outputs": [],
   "source": [
    "#cursor.execute(\"\"\"DROP TABLE freqs\n",
    "#               \"\"\")"
   ]
  },
  {
   "cell_type": "code",
   "execution_count": 9,
   "id": "d94de14f",
   "metadata": {},
   "outputs": [
    {
     "name": "stdout",
     "output_type": "stream",
     "text": [
      "[]\n"
     ]
    }
   ],
   "source": [
    "sql = \"SELECT * FROM freqs\"\n",
    "cursor.execute(sql)\n",
    "print(cursor.fetchall()) # or use fetchone()"
   ]
  },
  {
   "cell_type": "code",
   "execution_count": 10,
   "id": "b6091d43",
   "metadata": {},
   "outputs": [],
   "source": [
    "sqlite_insert_with_param = \"\"\"INSERT INTO freqs\n",
    "                  VALUES (?, ?, ?, ?)\"\"\"\n"
   ]
  },
  {
   "cell_type": "code",
   "execution_count": null,
   "id": "3634a24f",
   "metadata": {},
   "outputs": [
    {
     "data": {
      "application/vnd.jupyter.widget-view+json": {
       "model_id": "6da0454844d24dd7a912f649e815f28a",
       "version_major": 2,
       "version_minor": 0
      },
      "text/plain": [
       "  0%|          | 0/201 [00:00<?, ?it/s]"
      ]
     },
     "metadata": {},
     "output_type": "display_data"
    },
    {
     "data": {
      "application/vnd.jupyter.widget-view+json": {
       "model_id": "c81f47485dd841df85b027a5e41219fb",
       "version_major": 2,
       "version_minor": 0
      },
      "text/plain": [
       "  0%|          | 0/6 [00:00<?, ?it/s]"
      ]
     },
     "metadata": {},
     "output_type": "display_data"
    },
    {
     "data": {
      "application/vnd.jupyter.widget-view+json": {
       "model_id": "56d50c59ed12440b9eb4c15a9668b843",
       "version_major": 2,
       "version_minor": 0
      },
      "text/plain": [
       "  0%|          | 0/6 [00:00<?, ?it/s]"
      ]
     },
     "metadata": {},
     "output_type": "display_data"
    },
    {
     "data": {
      "application/vnd.jupyter.widget-view+json": {
       "model_id": "7771580dee8c48878d14753f2de5119d",
       "version_major": 2,
       "version_minor": 0
      },
      "text/plain": [
       "  0%|          | 0/4 [00:00<?, ?it/s]"
      ]
     },
     "metadata": {},
     "output_type": "display_data"
    },
    {
     "data": {
      "application/vnd.jupyter.widget-view+json": {
       "model_id": "300f9ad9a69a4ff88b8738ff4941df82",
       "version_major": 2,
       "version_minor": 0
      },
      "text/plain": [
       "  0%|          | 0/5 [00:00<?, ?it/s]"
      ]
     },
     "metadata": {},
     "output_type": "display_data"
    },
    {
     "data": {
      "application/vnd.jupyter.widget-view+json": {
       "model_id": "ac71b6533eb04dba876c2eb8caf2b8d3",
       "version_major": 2,
       "version_minor": 0
      },
      "text/plain": [
       "  0%|          | 0/11 [00:00<?, ?it/s]"
      ]
     },
     "metadata": {},
     "output_type": "display_data"
    },
    {
     "data": {
      "application/vnd.jupyter.widget-view+json": {
       "model_id": "4c0793fae4114ca8921f7b28ac998858",
       "version_major": 2,
       "version_minor": 0
      },
      "text/plain": [
       "  0%|          | 0/9 [00:00<?, ?it/s]"
      ]
     },
     "metadata": {},
     "output_type": "display_data"
    },
    {
     "data": {
      "application/vnd.jupyter.widget-view+json": {
       "model_id": "26d1848d74194704a680b6ae092f22c2",
       "version_major": 2,
       "version_minor": 0
      },
      "text/plain": [
       "  0%|          | 0/18 [00:00<?, ?it/s]"
      ]
     },
     "metadata": {},
     "output_type": "display_data"
    },
    {
     "data": {
      "application/vnd.jupyter.widget-view+json": {
       "model_id": "c70dff92769c4eb191f012bf925dafd5",
       "version_major": 2,
       "version_minor": 0
      },
      "text/plain": [
       "  0%|          | 0/3 [00:00<?, ?it/s]"
      ]
     },
     "metadata": {},
     "output_type": "display_data"
    },
    {
     "data": {
      "application/vnd.jupyter.widget-view+json": {
       "model_id": "e852cc8e8f344cad8611bebabd1f6ee3",
       "version_major": 2,
       "version_minor": 0
      },
      "text/plain": [
       "  0%|          | 0/2 [00:00<?, ?it/s]"
      ]
     },
     "metadata": {},
     "output_type": "display_data"
    },
    {
     "data": {
      "application/vnd.jupyter.widget-view+json": {
       "model_id": "b045cc89bb04485dac64f5699db4276a",
       "version_major": 2,
       "version_minor": 0
      },
      "text/plain": [
       "  0%|          | 0/22 [00:00<?, ?it/s]"
      ]
     },
     "metadata": {},
     "output_type": "display_data"
    },
    {
     "data": {
      "application/vnd.jupyter.widget-view+json": {
       "model_id": "21ac3fd71f7e49b98ee824ca5852dcee",
       "version_major": 2,
       "version_minor": 0
      },
      "text/plain": [
       "  0%|          | 0/39 [00:00<?, ?it/s]"
      ]
     },
     "metadata": {},
     "output_type": "display_data"
    },
    {
     "data": {
      "application/vnd.jupyter.widget-view+json": {
       "model_id": "34c8a7f4746249a09f5df5af3c835a34",
       "version_major": 2,
       "version_minor": 0
      },
      "text/plain": [
       "  0%|          | 0/1 [00:00<?, ?it/s]"
      ]
     },
     "metadata": {},
     "output_type": "display_data"
    },
    {
     "data": {
      "application/vnd.jupyter.widget-view+json": {
       "model_id": "f03b7b87229e4737b1976912f3b2e67e",
       "version_major": 2,
       "version_minor": 0
      },
      "text/plain": [
       "  0%|          | 0/8 [00:00<?, ?it/s]"
      ]
     },
     "metadata": {},
     "output_type": "display_data"
    },
    {
     "data": {
      "application/vnd.jupyter.widget-view+json": {
       "model_id": "cf844e32c96546c7a657623431403f4f",
       "version_major": 2,
       "version_minor": 0
      },
      "text/plain": [
       "  0%|          | 0/4 [00:00<?, ?it/s]"
      ]
     },
     "metadata": {},
     "output_type": "display_data"
    },
    {
     "data": {
      "application/vnd.jupyter.widget-view+json": {
       "model_id": "a5921cab02f14b0ba242be543fc53ed4",
       "version_major": 2,
       "version_minor": 0
      },
      "text/plain": [
       "  0%|          | 0/4 [00:00<?, ?it/s]"
      ]
     },
     "metadata": {},
     "output_type": "display_data"
    },
    {
     "data": {
      "application/vnd.jupyter.widget-view+json": {
       "model_id": "d13664d7959e48f18c802b0468cbb558",
       "version_major": 2,
       "version_minor": 0
      },
      "text/plain": [
       "  0%|          | 0/29 [00:00<?, ?it/s]"
      ]
     },
     "metadata": {},
     "output_type": "display_data"
    }
   ],
   "source": [
    "for title_link in tqdm(title_page_links[0:210]):\n",
    "    if title_link.get('name') is not None:\n",
    "        title_page_href = title_link.get('href') # ссылка на страницу тайтла (на ней ссылки на песни)\n",
    "        \n",
    "        title_dir_path = create_title_dir(results_path, title_page_href) # создаем папку для тайтла, туда будем сохранять json'ы отедльных песен\n",
    "        \n",
    "        title_name = title_page_href.split('/')[-1]\n",
    "        \n",
    "        try:\n",
    "            # делаем суп из страницы и вытаскиваем ссылки на тексты\n",
    "            title_page = requests.get(title_page_href)\n",
    "            title_page_soup = BeautifulSoup(title_page.text)\n",
    "\n",
    "            song_page_hrefs = lyrics_links(title_page_soup)\n",
    "\n",
    "            for page_href in tqdm(song_page_hrefs):\n",
    "\n",
    "                #print(page_href)\n",
    "\n",
    "                # делаем суп из страницы с текстом\n",
    "                song_page = requests.get(page_href)\n",
    "                song_page_soup = BeautifulSoup(song_page.text)\n",
    "\n",
    "                text = scrape_lyrics(song_page_soup) # вытаскиваем очищенный текст\n",
    "\n",
    "                if text is not None:\n",
    "\n",
    "                    #words = re.findall(r'\\w+', text.lower()) # вытаскиваем список слов\n",
    "\n",
    "                    tagger = fugashi.Tagger()\n",
    "                    words = [word.surface for word in tagger(text)]\n",
    "\n",
    "                    cnt = Counter(words) # делаем словарь, ключ - слово, значение - число употреблений\n",
    "\n",
    "                    cnt = normalize_freq(cnt)\n",
    "\n",
    "\n",
    "                    song_name = page_href.split('/')[-1]\n",
    "\n",
    "                    for word, freq in cnt.items():\n",
    "                        data_tuple = (word, song_name, title_name, freq)\n",
    "                        cursor.execute(sqlite_insert_with_param, data_tuple)\n",
    "\n",
    "\n",
    "                    json_path = title_dir_path + '/' + song_name + '.json'\n",
    "\n",
    "                    with open(json_path, 'w') as f:\n",
    "                       json.dump(cnt, f)\n",
    "        except:\n",
    "            #print('could not parse')\n",
    "            pass\n",
    "\n",
    "conn.close()"
   ]
  },
  {
   "cell_type": "code",
   "execution_count": null,
   "id": "094e4853",
   "metadata": {},
   "outputs": [],
   "source": [
    "for i, j in cnt.items(): \n",
    "    print(i,j)"
   ]
  },
  {
   "cell_type": "code",
   "execution_count": null,
   "id": "a3bc522f",
   "metadata": {},
   "outputs": [],
   "source": []
  },
  {
   "cell_type": "code",
   "execution_count": null,
   "id": "eb55163e",
   "metadata": {},
   "outputs": [],
   "source": []
  },
  {
   "cell_type": "code",
   "execution_count": null,
   "id": "759fd4c1",
   "metadata": {},
   "outputs": [],
   "source": [
    "magic_word_list = ['人類','閥']"
   ]
  },
  {
   "cell_type": "code",
   "execution_count": null,
   "id": "9c2ec726",
   "metadata": {},
   "outputs": [],
   "source": [
    "titles_dirs = os.listdir(results_path)"
   ]
  },
  {
   "cell_type": "code",
   "execution_count": null,
   "id": "16de6212",
   "metadata": {},
   "outputs": [],
   "source": [
    "ratings = dict()\n",
    "\n",
    "for d in titles_dirs:\n",
    "    d_path = results_path + '/' + d\n",
    "\n",
    "    json_names = os.listdir(d_path)\n",
    "    \n",
    "    for j in json_names:\n",
    "        json_path = d_path + '/' + j\n",
    "        print(json_path)\n",
    "        \n",
    "        dkey = '_'.join(json_path.split('/')[-2:]).split('.json')[0]\n",
    "        ratings[dkey] = 0\n",
    "        \n",
    "        with open(json_path) as f:\n",
    "            my_dict = json.load(f)\n",
    "\n",
    "            for word in magic_word_list:\n",
    "                ratings[dkey] += my_dict.get(word,0)"
   ]
  },
  {
   "cell_type": "code",
   "execution_count": null,
   "id": "2b955c96",
   "metadata": {},
   "outputs": [],
   "source": []
  }
 ],
 "metadata": {
  "kernelspec": {
   "display_name": "lvs_venv",
   "language": "python",
   "name": "lvs_venv"
  },
  "language_info": {
   "codemirror_mode": {
    "name": "ipython",
    "version": 3
   },
   "file_extension": ".py",
   "mimetype": "text/x-python",
   "name": "python",
   "nbconvert_exporter": "python",
   "pygments_lexer": "ipython3",
   "version": "3.10.4"
  }
 },
 "nbformat": 4,
 "nbformat_minor": 5
}
